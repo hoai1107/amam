{
 "cells": [
  {
   "cell_type": "code",
   "execution_count": 1,
   "metadata": {},
   "outputs": [],
   "source": [
    "import firebase_admin\n",
    "from firebase_admin import credentials\n",
    "from firebase_admin import firestore\n",
    "cred=credentials.Certificate('cs300-project-firebase-adminsdk-z5mzh-43da7b3a43.json')\n",
    "firebase_admin.initialize_app(cred)\n",
    "db=firestore.client()"
   ]
  },
  {
   "cell_type": "code",
   "execution_count": 3,
   "metadata": {},
   "outputs": [],
   "source": [
    "obj1={\n",
    "  \"Name\":\"Mike\",\n",
    "  \"Age\":100,\n",
    "  \"Net worth\":100000\n",
    "}\n",
    "obj2={\n",
    "  \"Name\":\"Tony\",\n",
    "  \"Age\":10,\n",
    "  \"New worth\":100000\n",
    "}\n",
    "data=[obj1,obj2]"
   ]
  },
  {
   "cell_type": "code",
   "execution_count": 4,
   "metadata": {},
   "outputs": [
    {
     "name": "stdout",
     "output_type": "stream",
     "text": [
      "{'Name': 'Mike', 'Age': 100, 'Net worth': 100000}\n",
      "{'Nmae': 'Tony', 'Age': 10, 'New worth': 100000}\n"
     ]
    }
   ],
   "source": [
    "for record in data:\n",
    "    print(record)"
   ]
  },
  {
   "cell_type": "code",
   "execution_count": 5,
   "metadata": {},
   "outputs": [
    {
     "data": {
      "text/plain": [
       "update_time {\n",
       "  seconds: 1669199653\n",
       "  nanos: 419973000\n",
       "}"
      ]
     },
     "execution_count": 5,
     "metadata": {},
     "output_type": "execute_result"
    }
   ],
   "source": [
    "doc_ref=db.collection(u'users').document(u'aturing')\n",
    "doc_ref.set({\n",
    "    u'first': u'Alan',\n",
    "    u'middle': u'Mathison',\n",
    "    u'last': u'Turing',\n",
    "    u'born': 1912\n",
    "})"
   ]
  }
 ],
 "metadata": {
  "kernelspec": {
   "display_name": "Python 3.10.6 64-bit",
   "language": "python",
   "name": "python3"
  },
  "language_info": {
   "codemirror_mode": {
    "name": "ipython",
    "version": 3
   },
   "file_extension": ".py",
   "mimetype": "text/x-python",
   "name": "python",
   "nbconvert_exporter": "python",
   "pygments_lexer": "ipython3",
   "version": "3.10.6"
  },
  "orig_nbformat": 4,
  "vscode": {
   "interpreter": {
    "hash": "916dbcbb3f70747c44a77c7bcd40155683ae19c65e1c03b4aa3499c5328201f1"
   }
  }
 },
 "nbformat": 4,
 "nbformat_minor": 2
}

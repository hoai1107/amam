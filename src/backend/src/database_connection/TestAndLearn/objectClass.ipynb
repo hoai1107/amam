{
 "cells": [
  {
   "cell_type": "code",
   "execution_count": 10,
   "metadata": {},
   "outputs": [],
   "source": [
    "import time\n",
    "from datetime import datetime"
   ]
  },
  {
   "cell_type": "code",
   "execution_count": 11,
   "metadata": {},
   "outputs": [],
   "source": [
    "class User: \n",
    "    class Question:\n",
    "       def __init__(self, id, title):\n",
    "           self.id=id\n",
    "           self.title=title\n",
    "    class Follower:\n",
    "        def __init__(self, id,name):\n",
    "            self.id=str(id)\n",
    "            self.name=str(name)\n",
    "    def __init__(self, name, avatar, list_of_user_question,number_of_answer,list_of_follow):\n",
    "        self.name=name()\n",
    "        self.avatar=avatar()\n",
    "        self.list_of_user_question=list_of_user_question\n",
    "        self.number_of_answer=number_of_answer\n",
    "        self.list_of_follow=list_of_follow"
   ]
  },
  {
   "cell_type": "code",
   "execution_count": 20,
   "metadata": {},
   "outputs": [],
   "source": [
    "class Post:\n",
    "    class Comment:\n",
    "        def __init__(self, user_id, is_delete=False, content=str(),upvote=0, downvote=0):\n",
    "            self.user_id=user_id\n",
    "            self.is_delete=is_delete\n",
    "            self.content=content\n",
    "            self.upvote=upvote\n",
    "            self.downvote=downvote\n",
    "    def __init__(self, title, view=0, time_create: str|None=None, tag=list() , upvote=0, downvote=0, cmts=list(), userseen=list()):\n",
    "        self.title=title\n",
    "        self.view=view\n",
    "        self.tag=tag\n",
    "        self.timeCreate=datetime.strptime(time_create,\"%d/%m/%Y\")\n",
    "        t=self.timeCreate.timetuple()\n",
    "        self.timeCreate=time.mktime(t)\n",
    "        self.upvote=upvote\n",
    "        self.downvote=downvote\n",
    "        self.comment=cmts\n",
    "        self.userseen=userseen"
   ]
  },
  {
   "cell_type": "code",
   "execution_count": 16,
   "metadata": {},
   "outputs": [],
   "source": [
    "import json\n",
    "from collections import namedtuple\n",
    "from json import JSONEncoder\n",
    "def userParseJson(jsonDict:str):\n",
    "    def customDecoder(dict):\n",
    "        return namedtuple('X',dict.keys())(*dict.values())\n",
    "    '''jsonDict=\"\"\"{\n",
    "        \"name\":\"Nguyen Dinh Quoc (str)\",\n",
    "        \"avatar\":\"blob_of_byte (bolb byte str)\",\n",
    "        \"list_of_user_question\":[\n",
    "            {\n",
    "                \"id_of_the_post\":\"id (str)\",\n",
    "                \"title\":\"The journey of finding a data engineer jon :)) _ (str)\"\n",
    "            }\n",
    "        ],\n",
    "        \"number_of_answer\":3,\n",
    "        \"list_of_follow\":[\n",
    "            {\n",
    "                \"user_id\":\"id (str)\",\n",
    "                \"name_user\":\"(str)\"\n",
    "            }   \n",
    "        ]\n",
    "    }\"\"\"'''\n",
    "    user=json.loads(jsonDict,object_hook=customDecoder)\n",
    "    userObject=User(user.name,user.avatar,user.list_of_user_question,user.number_of_answer,user.list_of_follow)\n",
    "    print(userObject)"
   ]
  },
  {
   "cell_type": "markdown",
   "metadata": {},
   "source": []
  }
 ],
 "metadata": {
  "kernelspec": {
   "display_name": "Python 3.10.6 64-bit",
   "language": "python",
   "name": "python3"
  },
  "language_info": {
   "codemirror_mode": {
    "name": "ipython",
    "version": 3
   },
   "file_extension": ".py",
   "mimetype": "text/x-python",
   "name": "python",
   "nbconvert_exporter": "python",
   "pygments_lexer": "ipython3",
   "version": "3.10.6"
  },
  "orig_nbformat": 4,
  "vscode": {
   "interpreter": {
    "hash": "916dbcbb3f70747c44a77c7bcd40155683ae19c65e1c03b4aa3499c5328201f1"
   }
  }
 },
 "nbformat": 4,
 "nbformat_minor": 2
}

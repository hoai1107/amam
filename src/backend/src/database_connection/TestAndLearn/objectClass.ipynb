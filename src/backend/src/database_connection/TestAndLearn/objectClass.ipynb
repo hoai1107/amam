{
 "cells": [
  {
   "cell_type": "code",
   "execution_count": null,
   "metadata": {},
   "outputs": [],
   "source": [
    "import time\n",
    "from datetime import datetime"
   ]
  },
  {
   "cell_type": "code",
   "execution_count": 1,
   "metadata": {},
   "outputs": [],
   "source": [
    "class User: \n",
    "    class Question:\n",
    "       def __init__(self, id, title):\n",
    "           self.id=id\n",
    "           self.title=title\n",
    "    class Follower:\n",
    "        def __init__(self, id,name):\n",
    "            self.id=str(id)\n",
    "            self.name=str(name)\n",
    "    def __init__(self):\n",
    "        self.name=str()\n",
    "        self.avatar=str()\n",
    "        self.lstQuestion=list()\n",
    "        self.numAnswer=int()\n",
    "        self.followers=list()"
   ]
  },
  {
   "cell_type": "code",
   "execution_count": null,
   "metadata": {},
   "outputs": [],
   "source": [
    "class Post:\n",
    "    class Comment:\n",
    "        def __init__(self, user_id, is_delete=False, content=str(),upvote=0, downvote=0):\n",
    "            self.user_id=user_id\n",
    "            self.is_delete=is_delete\n",
    "            self.content=content\n",
    "            self.upvote=upvote\n",
    "            self.downvote=downvote\n",
    "    def __init__(self, view=0, time_create: str|None=None, tag=list() , upvote=0, downvote=0, cmts=list()|None=None):\n",
    "        self.title=str()\n",
    "        self.view=view\n",
    "        self.tag=list()\n",
    "        self.timeCreate=datetime.strptime(time_create,r\"%d/%m/%y\")\n",
    "        self.upvote=upvote\n",
    "        self.downvote=downvote\n",
    "        self.comment=list()"
   ]
  }
 ],
 "metadata": {
  "kernelspec": {
   "display_name": "Python 3.10.6 64-bit",
   "language": "python",
   "name": "python3"
  },
  "language_info": {
   "codemirror_mode": {
    "name": "ipython",
    "version": 3
   },
   "file_extension": ".py",
   "mimetype": "text/x-python",
   "name": "python",
   "nbconvert_exporter": "python",
   "pygments_lexer": "ipython3",
   "version": "3.10.6"
  },
  "orig_nbformat": 4,
  "vscode": {
   "interpreter": {
    "hash": "916dbcbb3f70747c44a77c7bcd40155683ae19c65e1c03b4aa3499c5328201f1"
   }
  }
 },
 "nbformat": 4,
 "nbformat_minor": 2
}
